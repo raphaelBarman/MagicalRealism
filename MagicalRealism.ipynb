{
 "cells": [
  {
   "cell_type": "code",
   "execution_count": 171,
   "metadata": {},
   "outputs": [],
   "source": [
    "%matplotlib inline\n",
    "import matplotlib.pyplot as plt\n",
    "import scipy\n",
    "import epub\n",
    "import nltk\n",
    "import pandas as pd\n",
    "import seaborn as sns\n",
    "import numpy as np\n",
    "from bs4 import BeautifulSoup\n",
    "from collections import Counter\n",
    "from string import punctuation\n",
    "\n",
    "def warn(*args, **kwargs):\n",
    "    pass\n",
    "import warnings\n",
    "warnings.warn = warn"
   ]
  },
  {
   "cell_type": "markdown",
   "metadata": {},
   "source": [
    "## Text preparation and magical passages"
   ]
  },
  {
   "cell_type": "code",
   "execution_count": 3,
   "metadata": {},
   "outputs": [],
   "source": [
    "book = epub.open_epub('GabrielGarciaMarquez-CienAnosDeSoledad.EPUB')\n",
    "cienanos = []\n",
    "for item in list(book.opf.manifest.values())[4:24]: \n",
    "    # read the content \n",
    "    data = book.read_item( item )\n",
    "    if 'html' in item.href and 'chap' in item.href:\n",
    "        print(item.href)\n",
    "    #print data\n",
    "    soup = BeautifulSoup(data, 'html.parser')\n",
    "    raw = soup.prettify()\n",
    "    chapter_num = soup.h1.text.strip()\n",
    "    paragraphs = [par.get_text() for par in soup.find_all('div', class_='paragraph5')]\n",
    "    cienanos.append((chapter_num, paragraphs))"
   ]
  },
  {
   "cell_type": "code",
   "execution_count": 4,
   "metadata": {},
   "outputs": [
    {
     "name": "stdout",
     "output_type": "stream",
     "text": [
      "There is 840 paragraph of average length 164.005 words\n"
     ]
    }
   ],
   "source": [
    "paragraphs = []\n",
    "for chapter in cienanos:\n",
    "    for paragraph in chapter[1]:\n",
    "        paragraphs.append(paragraph)\n",
    "paragraphs = np.array(paragraphs)\n",
    "print(\"There is %d paragraph of average length %.3f words\"%(len(paragraphs), sum(len(s.split()) for s in paragraphs)/len(paragraphs)))"
   ]
  },
  {
   "cell_type": "markdown",
   "metadata": {},
   "source": [
    "Several passages we selected contained two different paragraphs, I chose to put them as two separate paragraphs"
   ]
  },
  {
   "cell_type": "code",
   "execution_count": 5,
   "metadata": {},
   "outputs": [
    {
     "name": "stdout",
     "output_type": "stream",
     "text": [
      "There is 41 magical passages of average 65.049 words.\n"
     ]
    }
   ],
   "source": [
    "magical_passages = []\n",
    "magical_passages.append(\"El niño, perplejo en la puerta, dijo: «Se va a caer.» La olla estaba bien puesta en el centro de la mesa, pero tan pronto como el niño hizo el anuncio, inició un movimiento irrevocable hacia el borde, como impulsada por un dinamismo interior, y se despedazó en el suelo. Úrsula, alarmada, le contó el episodio a su marido, pero éste lo interpretó como un fenómeno natural.\")\n",
    "magical_passages.append(\"la gallina que ponía un centenar de huevos de oro al son de la pandereta, y el mono amaestrado que adivinaba el pensamiento, y la máquina múltiple que servía al mismo tiempo para pegar botones y bajar la fiebre, y el aparato para olvidar los malos recuerdos, y el emplasto para perder el tiempo, y un millar de invenciones más, tan ingeniosas e insólitas, que José Arcadio Buendía hubiera querido inventar la máquina de la memoria para poder acordarse de todas\")\n",
    "magical_passages.append(\"Una tía de Úrsula, casada con un tío de José Arcadio Buendía tuvo un hijo que pasó toda la vida con unos pantalones englobados y flojos, y que murió desangrado después de haber vivido cuarenta y dos años en el más puro estado de virginidad porque nació y creció con una cola cartilaginosa en forma de tirabuzón y con una escobilla de pelos en la punta. Una cola de cerdo que no se dejó ver nunca de ninguna mujer, y que le costo la vida cuando un carnicero amigo le hizo el favor de cortársela con una hachuela de destazar.\")\n",
    "magical_passages.append(\"Dos noches después, Úrsula volvió a ver a Prudencio Aguilar en el baño, lavándose con el tapón de esparto la sangre cris-talizada del cuello. Otra noche lo vio paseándose bajo la lluvia. José Arcadio Buendía, fastidiado por las alucinaciones de su mujer, salió al patio armado con la lanza. Allí estaba el muerto con su expresión triste.\")\n",
    "magical_passages.append(\"Esta vez, entre muchos otros juegos de artificio, llevaban una estera voladora. Pero no la ofrecieron como un aporte fundamental al desarrollo del transporte, como un objeto de recreo. La gente, desde luego, desenterró sus últimos pedacitos de oro para disfrutar de un vuelo fugaz sobre las casas de la aldea.\")\n",
    "magical_passages.append(\"Estaba entre la multitud que presenciaba el triste espectáculo del hombre que se convirtió en víbora por desobedecer a sus padres.\")\n",
    "magical_passages.append(\"Un frasco vacío que durante mucho tiempo estuvo olvidado en un armario se hizo tan pesado que fue imposible moverlo. Una cazuela de agua colocada en la mesa de trabajo hirvió sin fuego durante media hora hasta evaporarse por completo. José Arcadio Buendía y su hijo observaban aquellos fenómenos con asustado alborozo, sin lograr explicárselos, pero interpretándolos como anuncios de la materia. Un día la canastilla de Amaranta empezó a moverse con un impulso propio y dio una vuelta completa en el cuarto, ante la consternación de Aureliano, que se apresuró a detenerla. Pero su padre no se alteró. Puso la canastilla en su puesto y la amarró a la pata de una mesa, convencido de que el acontecimiento esperado era inminente. Fue en esa ocasión cuando Aureliano le oyó decir:\")\n",
    "magical_passages.append(\"—Si no temes a Dios, témele a los metales.\")\n",
    "magical_passages.append(\"Pero la india les explicó que lo más temible de la enfermedad del insomnio no era la imposibilidad de dormir, pues el cuerpo no sentía cansancio alguno, sino su inexorable evolución hacia una manifestación más crítica: el olvido. Quería decir que cuando el enfermo se acostumbraba a su estado de vigilia, empezaban a borrarse de su memoria los recuerdos de la infancia, luego el nombre y la noción de las cosas, y por último la identidad de las personas y aun la conciencia del propio ser, hasta hundirse en una especie de idiotez sin pasado. José Arcadio Buendía, muerta de risa, consideró que se trataba de una de tantas dolencias inventadas por la superstición de los indígenas. Pero Úrsula, por si acaso, tomó la precaución de separar a Rebeca de los otros niños.\")\n",
    "magical_passages.append(\"—Un momento —dijo—. Ahora vamos a presenciar una prueba irrebatible del infinito poder de Dios.\")\n",
    "magical_passages.append(\"El muchacho que había ayudado a misa le llevó una taza de chocolate espeso y humeante que él se tomó sin respirar. Luego se limpió los labios con un pañuelo que sacó de la manga, extendió los brazos y cerró los ojos. Entonces el padre Nicanor se elevó doce centímetros sobre el nivel del suelo. Fue un recurso convincente. Anduvo varios días por entre las casas, repitiendo la prueba de la levitación mediante el estímulo del chocolate, mientras el monaguillo recogía tanto dinero en un talego, que en menos de un mes emprendió la construcción del templo. Nadie puso en duda el origen divino de la demostración, salvo José Arcadio Buendía, que observó sin inmutarse el tropel de gente que una mañana se reunió en torno al castaño para asistir una vez más a la revelación.\")\n",
    "magical_passages.append(\"El padre Nicanor trató de impresionar a las autoridades militares can el milagro de la levitación, y un soldado lo descalabró de un culatazo.\")\n",
    "magical_passages.append(\"Un hilo de sangre salió por debajo de la puerta, atravesó la sala, salió a la calle, siguió en un curso directo por los andenes disparejos, descendió escalinatas y subió pretiles, pasó de largo por la calle de los Turcos, dobló una esquina a la derecha y otra a la izquierda, volteó en ángulo recto frente a la casa de los Buendía, pasó por debajo de la puerta cerrada, atravesó la sala de visitas pegado a las paredes para no manchar los tapices, siguió por la otra sala, eludió en una curva amplia la mesa del comedor, avanzó por el corredor de las begonias y pasó sin ser visto por debajo de la silla de Amaranta que daba una lección de aritmética a Aureliano José, y se metió por el granero y apareció en la cocina donde Úrsula se disponía a partir treinta y seis huevos para el pan.\")\n",
    "magical_passages.append(\"—¡Ave María Purísima! —gritó Úrsula.\")\n",
    "magical_passages.append(\"Aunque en los meses siguientes reforzaron la tumba con muros superpuestos y echaron entre ellos ceniza apelmazada, aserrín y cal viva, el cementerio siguió oliendo a pólvora hasta muchos años después, cuando los ingenieros de la compañía bananera recubrieron la sepultura con una coraza de hormigón.\")\n",
    "magical_passages.append(\"Salió a la calle en una ocasión, ya muy vieja, con unos zapatos color de plata antigua y un sombrero de flores minúsculas, por la época en que pasó por el pueblo el Judío Errante y provocó un calor tan intenso que los pájaros rompían las alambreras de las ventanas para morir en los dormitorios\")\n",
    "magical_passages.append(\"No sólo era tan pesado como siempre, sino que en 511 prolongada estancia bajo el castaño había desarrollado la facultad de aumentar de peso volunta-riamente, hasta el punto de que siete hombres no pudieron con él y tuvieron que llevarlo a rastras a la cama.\")\n",
    "magical_passages.append(\"Poco después, cuando el carpintero le tomaba las medidas para el ataúd, vieron a través de la ventana que estaba cayendo una llovizna de minúsculas flores amarillas. Cayeron toda la noche sobre el pueblo en una tormenta silenciosa, y cubrieron los techos y atascaron las puertas, y sofocaron a los animales que durmieron a la intemperie. Tantas flores cayeron del cielo, que las calles amanecieron tapizadas de una colcha compacta, y tuvieron que despejarías con palas y rastrillos para que pudiera pasar el entierro.\")\n",
    "magical_passages.append(\"Un frío interior que le rayaba las huesos y lo mortificaba inclusive a pleno salle impidió dormir bien varias meses, hasta que se le convirtió en una costumbre.\")\n",
    "magical_passages.append(\"Hasta el principio de la adolescencia fueron dos mecanismos sincrónicos. Despertaban al mismo tiempo, sentían deseos de ir al baño a la misma hora, sufrían los mismos trastornos de salud y hasta sonaban las mismas cosas. En la casa, donde se creía que coordinaban sus actos por el simple deseo de confundir, nadie se dio cuenta de la realidad hasta un día en que Santa Sofía de la Piedad le dio a uno un vaso de limonada, y más tardó en probarlo que el otro en decir que le faltaba azúcar. Santa Sofía de la Piedad, que en efecto había olvidado ponerle azúcar a la limonada, se lo contó a Úrsula. «Así son todos —dijo ella, sin sorpresa—. Locos de nacimiento.»\")\n",
    "magical_passages.append(\"Pero cuando Aureliano Segundo abrió las ventanas entró una luz familiar que parecía acostumbrada a iluminar el cuarto todos los días, y no había el menor rastro de polvo o telaraña, sino que todo estaba barrido y limpio, mejor barrido y más limpio que el día del entierro, y la tinta no se había secado en el tintero ni el óxido había alterado el brillo de los metales, ni se había extinguido el rescoldo del atanor donde José Arcadio Buendía vaporizó el mercurio.\")\n",
    "magical_passages.append(\"Aunque carecía de pastas y el título no aparecía por ninguna parte, el niño gozaba con la historia de una mujer que se sentaba a la mesa y sólo comía granos de arroz que prendía con alfileres, y con la historia del pescador que le pidió prestado a su vecino un plomo para su red y el pescado con que lo recompensó más tarde tenía un diamante en el estómago, y con la lámpara que satisfacía los deseos y las alfombras que volaban. Asombrado, le preguntó a Úrsula si todo aquello era verdad, y ella le contentó que sí, que muchos años antes los gitanos llevaban a Macondo las lámparas maravillosas y las esteras voladoras.\")\n",
    "magical_passages.append(\"—Lo que pasa —suspiró— es que el mundo se va acabando poco a poco y ya no vienen esas cosas.\")\n",
    "magical_passages.append(\"Sus yeguas parían trillizos, las gallinas ponían dos veces al día, y los cerdos engordaban con tal desenfreno, que nadie podía explicarse tan desordenada fecundidad, como no fuera por artes de magia.\")\n",
    "magical_passages.append(\"Le bastaba con llevar a Petra Cotes a sus criaderos, y pasearla a caballo por sus tierras, para que todo animal marcado con su hierro sucumbiera a la peste irremediable de la proliferación.\")\n",
    "magical_passages.append(\"De regreso a casa, cuando el menor quiso limpiarse la frente descubrió que la mancha era indeleble, y que lo eran también las de sus hermanos. Probaron con agua y jabón con tierra y estropajo, y por último con piedra pómez y lejía y no con siguieron borrarse la cruz. En cambio, Amaranta y los demás que fueron a misa se la quitaron sin dificultad. «Así van mejor —los despidió Úrsula—. De ahora en adelante nadie podrá confundirlos.»\")\n",
    "magical_passages.append(\"Era un intrincado frangollo de verdades y espejismos, que convulsionó de impaciencia al espectro de José Arcadio Buendía bajo el castaño y lo obligó a caminar por toda la casa aun a pleno día.\")\n",
    "magical_passages.append(\"Tenía un negocio de globos cautivos, que había llevado por medio mundo con excelentes ganancias, pero no había conseguido elevar a nadie en Macondo porque consideraban ese invento como un retroceso, después de haber visto y probado las esteras voladoras de los gitanos.\")\n",
    "magical_passages.append(\"Fue en esa ocasión cuando construyeron una fortaleza de hormigón sobre la descolorida tumba de José Arcadio, para que el olor a pólvora del cadáver no contaminara las aguas.\")\n",
    "magical_passages.append(\"Acabó de decirlo, cuando Fernanda sintió que un delicado viento de luz le arrancó las sábanas de las manos y las desplegó en toda su amplitud. Amaranta sintió un temblor misterioso en los encajes de sus pollerinas y trató de agarrarse de la sábana para no caer, en el instante en que Remedios, la bella, empezaba a elevarse. Úrsula, ya casi ciega, fue la única que tuvo serenidad para identificar la naturaleza de aquel viento irreparable, y dejó las sábanas a merced de la luz, viendo a Remedios, la bella, que le decía adiós con la mano, entre el deslumbrante aleteo de las sábanas que subían con ella, que abandonaban con ella el aire de los escarabajos y las dalias, y pasaban con ella a través del aire donde terminaban las cuatro de la tarde, y se perdieron con ella para siempre en los altos aires donde no podían alcanzarla ni los más altos pájaros de la memoria.\")\n",
    "magical_passages.append(\"El coronel Aureliano Buendía era el único habitante de la casa que no seguía viendo al potente anciano agobiado por medio siglo de intemperie. «Saluda a tu padre», le dijo Úrsula. Él se detuvo un instante frente al castaño, y una vez más comprobó que tampoco aquel espacio vacío le suscitaba ningún afecto.\")\n",
    "magical_passages.append(\"Faltaba tanto para que saliera el sol que José Arcadio Buendía dormitaba todavía bajo el cobertizo de palmas podridas por la llovizna. Él no lo vio, como no lo había visto nunca, ni oyó la frase incomprensible que le dirigió el espectro de su padre cuando despertó sobresaltado por el chorro de orín caliente que le salpicaba los zapatos.\")\n",
    "magical_passages.append(\"Detuvo la mirada en el espacio donde Aureliano Segundo y Santa Sofía de la Piedad seguían viendo a José Arcadio Segundo, y también éste se dio cuenta de que el militar lo estaba mirando sin verlo. Luego apagó la luz y ajusté la puerta. Cuando les habló a los soldados, entendió Aureliano Segundo que el joven militar había visto el cuarto con los mismos ojos con que lo vio el coronel Aureliano Buendía.\")\n",
    "magical_passages.append(\"Llovió cuatro años, once meses y dos días.\")\n",
    "magical_passages.append(\"Amaranta Úrsula y Aureliano la llevaban y la traían por el dormitorio, la acostaban en el altar para ver que era apenas más grande que el Niño Dios, y una tarde la escondieron en un armario del granero donde hubieran podido comérsela las ratas.\")\n",
    "magical_passages.append(\"La enterraron en una cajita que era apenas más grande que la canastilla en que fue llevado Aureliano\")\n",
    "magical_passages.append(\"Cuando se levantaron, ya un grupo de hombres estaba desensartando al monstruo de las afiladas varas que habían parado en el fondo de una fosa cubierta con hojas secas, y había dejado de berrear. Pesaba como un buey, a pesar de que su estatura no era mayor que la de un adolescente, y de sus heridas manaba una sangre verde y untuosa. Tenía el cuerpo cubierto de una pelambre áspera, plagada de garrapatas menudas, y el pellejo petrificado por una costra de rémora, pero al contrario de la descripción del párroco, sus partes humanas eran más de ángel valetudinario que de hombre, porque las manos eran tersas y hábiles, los ojos grandes y crepusculares, y tenía en los omoplatos los muñones cicatrizados y callosos de unas alas potentes, que debieron ser desbastadas con hachas de labrador.\")\n",
    "magical_passages.append(\"En el cuartito apartado, adonde nunca llegó el viento árido, ni el polvo ni el calor, ambos recordaban la visión atávica de un anciano con sombrero de alas de cuervo que hablaba del mundo a espaldas de la ventana, muchos años antes de que ellos nacieran. Ambos descubrieron al mismo tiempo que allí siempre era marzo y siempre era lunes, y entonces comprendieron que José Arcadio Buendía no estaba tan loco como contaba la familia, sino que era el único que había dispuesto de bastante lucidez para vislumbrar la verdad de que también el tiempo sufría tropiezos y accidentes, y podía por tanto astillarse y dejar en un cuarto una fracción eternizada\")\n",
    "magical_passages.append(\"Divertidos por la impunidad de sus travesuras, cuatro niños entraron otra mañana en el cuarto, mientras Aureliano estaba en la cocina, dispuestos a destruir los pergaminos.\")\n",
    "magical_passages.append(\"Muchas veces fueron despertados por el tráfago de los muertos. Oyeron a Úrsula peleando con las leyes de la creación para preservar la estirpe, y a José Arcadio Buendía buscando la verdad quimérica de los grandes inventos, y a Fernanda rezando y al coronel Aureliano Buendía embruteciéndose con engaños de guerras y pescaditos de oro, y a Aureliano Segundo agonizando de soledad en el aturdimiento de las parrandas, y entonces aprendieron que las obsesiones dominantes prevalecen contra la muerte, y volvieron a ser felices con la certidumbre de que ellos seguirían amándose con sus naturalezas de aparecidos, mucho después de que otras especies de animales futuros les arrebataran a los insectos el paraíso de miseria que los insectos estaban acabando de arrebatarles a los hombres.\")\n",
    "magical_passages.append(\"Sólo cuando lo voltearon boca abajo se dieron cuenta de que tenía algo más que el resto de los hombres, y se inclinaron para examinarlo. Era una cola de cerdo.\")\n",
    "magical_passages = np.array(magical_passages)\n",
    "print(\"There is %d magical passages of average %.3f words.\"%(len(magical_passages), sum(len(s.split()) for s in magical_passages)/len(magical_passages)))"
   ]
  },
  {
   "cell_type": "markdown",
   "metadata": {},
   "source": [
    "We match each magical passage with its paragraph."
   ]
  },
  {
   "cell_type": "code",
   "execution_count": 91,
   "metadata": {},
   "outputs": [
    {
     "name": "stdout",
     "output_type": "stream",
     "text": [
      "We have 38 paragraphs that match magical passages\n"
     ]
    }
   ],
   "source": [
    "def find_paragraph_idx(text, paragraphs):\n",
    "    for idx, paragraph in enumerate(paragraphs):\n",
    "        if text in paragraph:\n",
    "            return idx\n",
    "magical_paragraphs_idx = np.array([find_paragraph_idx(t, paragraphs) for t in magical_passages])\n",
    "magic = np.zeros_like(paragraphs, dtype=bool)\n",
    "magic[magical_paragraphs_idx] = True\n",
    "magical_paragraphs = paragraphs[magic]\n",
    "non_magical_paragraphs = paragraphs[~magic]\n",
    "\n",
    "print(\"We have %d paragraphs that match magical passages\"%sum(magic))"
   ]
  },
  {
   "cell_type": "markdown",
   "metadata": {},
   "source": [
    "## NLP\n",
    "\n",
    "The paragraphs are simply transformed into list of sentences which are themselves transformed into list of words.\n",
    "\n",
    "Words were tokenized using the Standford NLP which has support for spanish."
   ]
  },
  {
   "cell_type": "code",
   "execution_count": null,
   "metadata": {},
   "outputs": [],
   "source": [
    "from nltk.parse.corenlp import *\n",
    "parser = CoreNLPParser(url='http://127.0.0.1:9000')\n",
    "\n",
    "paragraphs_tokenized = []\n",
    "for paragraph in paragraphs:\n",
    "    paragraphs_tokenized.append([])\n",
    "    for sentence in nltk.sent_tokenize(paragraph, language='spanish'):\n",
    "        paragraphs_tokenized[-1].append(list(parser.tokenize(sentence)))"
   ]
  },
  {
   "cell_type": "code",
   "execution_count": 144,
   "metadata": {},
   "outputs": [],
   "source": [
    "import json\n",
    "with open('paragraphs_tokenized.json', 'r', encoding='utf-8') as infile:\n",
    "    paragraphs_tokenized = json.load(infile)\n",
    "    paragraphs_tokenized = np.array([np.array([np.array(sentence) for sentence in paragraph]) for paragraph in paragraphs_tokenized])"
   ]
  },
  {
   "cell_type": "markdown",
   "metadata": {},
   "source": [
    "## Words and Sentence comparison"
   ]
  },
  {
   "cell_type": "code",
   "execution_count": 146,
   "metadata": {},
   "outputs": [],
   "source": [
    "def dfs_for_paragraphs(paragraphs_tokenized):\n",
    "    words_per_sentence = []\n",
    "    sentence_per_paragraph = []\n",
    "    words_per_paragraph = []\n",
    "\n",
    "    for paragraph in paragraphs_tokenized:\n",
    "        sentence_per_paragraph.append(len(paragraph))\n",
    "        words_per_paragraph.append(0)\n",
    "        for sentence in paragraph:\n",
    "            num_words = len(sentence)\n",
    "            words_per_sentence.append(num_words)\n",
    "            words_per_paragraph[-1] += num_words\n",
    "    per_sentence_df = pd.DataFrame(words_per_sentence, columns=['Words per sentence'])\n",
    "    per_paragraph_df = pd.DataFrame(np.stack([np.array(sentence_per_paragraph), np.array(words_per_paragraph)], axis=1), columns=['Sentence per paragraph', 'Words per paragraph'])\n",
    "    return per_sentence_df, per_paragraph_df"
   ]
  },
  {
   "cell_type": "code",
   "execution_count": 147,
   "metadata": {},
   "outputs": [
    {
     "data": {
      "text/html": [
       "<div>\n",
       "<style scoped>\n",
       "    .dataframe tbody tr th:only-of-type {\n",
       "        vertical-align: middle;\n",
       "    }\n",
       "\n",
       "    .dataframe tbody tr th {\n",
       "        vertical-align: top;\n",
       "    }\n",
       "\n",
       "    .dataframe thead tr th {\n",
       "        text-align: left;\n",
       "    }\n",
       "</style>\n",
       "<table border=\"1\" class=\"dataframe\">\n",
       "  <thead>\n",
       "    <tr>\n",
       "      <th></th>\n",
       "      <th colspan=\"3\" halign=\"left\">All</th>\n",
       "      <th colspan=\"3\" halign=\"left\">Not Magic</th>\n",
       "      <th colspan=\"3\" halign=\"left\">Magic</th>\n",
       "    </tr>\n",
       "    <tr>\n",
       "      <th></th>\n",
       "      <th>Words/sentence</th>\n",
       "      <th>Sentences/Par</th>\n",
       "      <th>Words/Par</th>\n",
       "      <th>Words/sentence</th>\n",
       "      <th>Sentences/Par</th>\n",
       "      <th>Words/Par</th>\n",
       "      <th>Words/sentence</th>\n",
       "      <th>Sentences/Par</th>\n",
       "      <th>Words/Par</th>\n",
       "    </tr>\n",
       "  </thead>\n",
       "  <tbody>\n",
       "    <tr>\n",
       "      <th>count</th>\n",
       "      <td>5336.000000</td>\n",
       "      <td>840.000000</td>\n",
       "      <td>840.000000</td>\n",
       "      <td>4873.000000</td>\n",
       "      <td>802.00000</td>\n",
       "      <td>802.000000</td>\n",
       "      <td>463.000000</td>\n",
       "      <td>38.000000</td>\n",
       "      <td>38.000000</td>\n",
       "    </tr>\n",
       "    <tr>\n",
       "      <th>mean</th>\n",
       "      <td>29.661919</td>\n",
       "      <td>6.352381</td>\n",
       "      <td>188.423810</td>\n",
       "      <td>29.339421</td>\n",
       "      <td>6.07606</td>\n",
       "      <td>178.268080</td>\n",
       "      <td>33.056156</td>\n",
       "      <td>12.184211</td>\n",
       "      <td>402.763158</td>\n",
       "    </tr>\n",
       "    <tr>\n",
       "      <th>std</th>\n",
       "      <td>25.296303</td>\n",
       "      <td>7.040975</td>\n",
       "      <td>241.639457</td>\n",
       "      <td>25.379034</td>\n",
       "      <td>6.84685</td>\n",
       "      <td>232.941976</td>\n",
       "      <td>24.175071</td>\n",
       "      <td>8.526129</td>\n",
       "      <td>316.081364</td>\n",
       "    </tr>\n",
       "    <tr>\n",
       "      <th>min</th>\n",
       "      <td>2.000000</td>\n",
       "      <td>1.000000</td>\n",
       "      <td>3.000000</td>\n",
       "      <td>2.000000</td>\n",
       "      <td>1.00000</td>\n",
       "      <td>3.000000</td>\n",
       "      <td>3.000000</td>\n",
       "      <td>1.000000</td>\n",
       "      <td>10.000000</td>\n",
       "    </tr>\n",
       "    <tr>\n",
       "      <th>25%</th>\n",
       "      <td>14.000000</td>\n",
       "      <td>1.000000</td>\n",
       "      <td>18.000000</td>\n",
       "      <td>14.000000</td>\n",
       "      <td>1.00000</td>\n",
       "      <td>18.000000</td>\n",
       "      <td>17.000000</td>\n",
       "      <td>4.250000</td>\n",
       "      <td>183.000000</td>\n",
       "    </tr>\n",
       "    <tr>\n",
       "      <th>50%</th>\n",
       "      <td>26.000000</td>\n",
       "      <td>3.000000</td>\n",
       "      <td>85.500000</td>\n",
       "      <td>26.000000</td>\n",
       "      <td>3.00000</td>\n",
       "      <td>69.000000</td>\n",
       "      <td>29.000000</td>\n",
       "      <td>12.500000</td>\n",
       "      <td>355.000000</td>\n",
       "    </tr>\n",
       "    <tr>\n",
       "      <th>75%</th>\n",
       "      <td>40.000000</td>\n",
       "      <td>9.000000</td>\n",
       "      <td>297.000000</td>\n",
       "      <td>39.000000</td>\n",
       "      <td>9.00000</td>\n",
       "      <td>280.750000</td>\n",
       "      <td>41.500000</td>\n",
       "      <td>15.750000</td>\n",
       "      <td>518.750000</td>\n",
       "    </tr>\n",
       "    <tr>\n",
       "      <th>max</th>\n",
       "      <td>1142.000000</td>\n",
       "      <td>50.000000</td>\n",
       "      <td>1672.000000</td>\n",
       "      <td>1142.000000</td>\n",
       "      <td>50.00000</td>\n",
       "      <td>1672.000000</td>\n",
       "      <td>190.000000</td>\n",
       "      <td>34.000000</td>\n",
       "      <td>1348.000000</td>\n",
       "    </tr>\n",
       "  </tbody>\n",
       "</table>\n",
       "</div>"
      ],
      "text/plain": [
       "                 All                                 Not Magic                \\\n",
       "      Words/sentence Sentences/Par    Words/Par Words/sentence Sentences/Par   \n",
       "count    5336.000000    840.000000   840.000000    4873.000000     802.00000   \n",
       "mean       29.661919      6.352381   188.423810      29.339421       6.07606   \n",
       "std        25.296303      7.040975   241.639457      25.379034       6.84685   \n",
       "min         2.000000      1.000000     3.000000       2.000000       1.00000   \n",
       "25%        14.000000      1.000000    18.000000      14.000000       1.00000   \n",
       "50%        26.000000      3.000000    85.500000      26.000000       3.00000   \n",
       "75%        40.000000      9.000000   297.000000      39.000000       9.00000   \n",
       "max      1142.000000     50.000000  1672.000000    1142.000000      50.00000   \n",
       "\n",
       "                            Magic                             \n",
       "         Words/Par Words/sentence Sentences/Par    Words/Par  \n",
       "count   802.000000     463.000000     38.000000    38.000000  \n",
       "mean    178.268080      33.056156     12.184211   402.763158  \n",
       "std     232.941976      24.175071      8.526129   316.081364  \n",
       "min       3.000000       3.000000      1.000000    10.000000  \n",
       "25%      18.000000      17.000000      4.250000   183.000000  \n",
       "50%      69.000000      29.000000     12.500000   355.000000  \n",
       "75%     280.750000      41.500000     15.750000   518.750000  \n",
       "max    1672.000000     190.000000     34.000000  1348.000000  "
      ]
     },
     "execution_count": 147,
     "metadata": {},
     "output_type": "execute_result"
    }
   ],
   "source": [
    "per_sentence_df, per_paragraph_df = dfs_for_paragraphs(paragraphs_tokenized)\n",
    "\n",
    "stats_df = pd.concat([per_sentence_df.describe(), per_paragraph_df.describe()], axis=1)\n",
    "\n",
    "not_magic_per_sentence_df, not_magic_per_paragraph_df = dfs_for_paragraphs(paragraphs_tokenized[~magic])\n",
    "\n",
    "stats_df = pd.concat([stats_df, not_magic_per_sentence_df.describe(), not_magic_per_paragraph_df.describe()], axis=1)\n",
    "\n",
    "magic_per_sentence_df, magic_per_paragraph_df = dfs_for_paragraphs(paragraphs_tokenized[magic])\n",
    "\n",
    "stats_df = pd.concat([stats_df, magic_per_sentence_df.describe(), magic_per_paragraph_df.describe()], axis=1)\n",
    "\n",
    "col_index = pd.MultiIndex.from_product([['All', 'Not Magic', 'Magic'], ['Words/sentence', 'Sentences/Par', 'Words/Par']])\n",
    "stats_df = pd.DataFrame(stats_df.values, columns=col_index, index=stats_df.index)\n",
    "stats_df"
   ]
  },
  {
   "cell_type": "code",
   "execution_count": 148,
   "metadata": {
    "scrolled": false
   },
   "outputs": [
    {
     "data": {
      "image/png": "[encoded data removed]",
      "text/plain": [
       "<Figure size 720x576 with 1 Axes>"
      ]
     },
     "metadata": {},
     "output_type": "display_data"
    }
   ],
   "source": [
    "fig, ax = plt.subplots(figsize=(10,8))\n",
    "sns.distplot(magic_per_sentence_df, ax=ax,hist=True, label='magic')\n",
    "sns.distplot(not_magic_per_sentence_df, ax=ax, hist=True, label='not magic')\n",
    "ax.set_xlim(0, per_sentence_df.quantile(0.99).max());\n",
    "ax.set_ylabel(\"density\")\n",
    "ax.set_xlabel(\"number of words\")\n",
    "ax.set_title(\"Density of number of words per sentence\")\n",
    "ax.legend();"
   ]
  },
  {
   "cell_type": "code",
   "execution_count": 149,
   "metadata": {},
   "outputs": [
    {
     "data": {
      "image/png": "[encoded data removed]",
      "text/plain": [
       "<Figure size 720x576 with 1 Axes>"
      ]
     },
     "metadata": {},
     "output_type": "display_data"
    }
   ],
   "source": [
    "fig, ax = plt.subplots(figsize=(10,8))\n",
    "sns.distplot(magic_per_paragraph_df['Sentence per paragraph'], ax=ax, label='magic')\n",
    "sns.distplot(not_magic_per_paragraph_df['Sentence per paragraph'], ax=ax, label='not magic')\n",
    "# ax.set_xlim(0, not_magic_per_paragraph_df['Sentence per paragraph'].quantile(0.99));\n",
    "ax.set_ylabel(\"density\")\n",
    "ax.set_xlabel(\"number of sentence\")\n",
    "ax.set_title(\"Density of number of sentence per paragraph\")\n",
    "ax.legend();"
   ]
  },
  {
   "cell_type": "code",
   "execution_count": 150,
   "metadata": {},
   "outputs": [
    {
     "data": {
      "image/png": "[encoded data removed]",
      "text/plain": [
       "<Figure size 720x576 with 1 Axes>"
      ]
     },
     "metadata": {},
     "output_type": "display_data"
    }
   ],
   "source": [
    "fig, ax = plt.subplots(figsize=(10,8))\n",
    "sns.distplot(magic_per_paragraph_df['Words per paragraph'], ax=ax, label='magic')\n",
    "sns.distplot(not_magic_per_paragraph_df['Words per paragraph'], ax=ax, label='not magic')\n",
    "# ax.set_xlim(0, not_magic_per_paragraph_df['Words per paragraph'].quantile(0.99));\n",
    "ax.set_ylabel(\"density\")\n",
    "ax.set_xlabel(\"number of words\")\n",
    "ax.set_title(\"Density of number of Words per paragraph\")\n",
    "ax.legend();"
   ]
  },
  {
   "cell_type": "markdown",
   "metadata": {},
   "source": [
    "### Sanity check with random paragraphs"
   ]
  },
  {
   "cell_type": "code",
   "execution_count": 151,
   "metadata": {},
   "outputs": [
    {
     "data": {
      "text/html": [
       "<div>\n",
       "<style scoped>\n",
       "    .dataframe tbody tr th:only-of-type {\n",
       "        vertical-align: middle;\n",
       "    }\n",
       "\n",
       "    .dataframe tbody tr th {\n",
       "        vertical-align: top;\n",
       "    }\n",
       "\n",
       "    .dataframe thead th {\n",
       "        text-align: right;\n",
       "    }\n",
       "</style>\n",
       "<table border=\"1\" class=\"dataframe\">\n",
       "  <thead>\n",
       "    <tr style=\"text-align: right;\">\n",
       "      <th></th>\n",
       "      <th>Words per sentence</th>\n",
       "      <th>Sentence per paragraph</th>\n",
       "      <th>Words per paragraph</th>\n",
       "    </tr>\n",
       "  </thead>\n",
       "  <tbody>\n",
       "    <tr>\n",
       "      <th>count</th>\n",
       "      <td>257.000000</td>\n",
       "      <td>38.000000</td>\n",
       "      <td>38.000000</td>\n",
       "    </tr>\n",
       "    <tr>\n",
       "      <th>mean</th>\n",
       "      <td>29.894942</td>\n",
       "      <td>6.763158</td>\n",
       "      <td>202.184211</td>\n",
       "    </tr>\n",
       "    <tr>\n",
       "      <th>std</th>\n",
       "      <td>19.038218</td>\n",
       "      <td>8.787073</td>\n",
       "      <td>275.197802</td>\n",
       "    </tr>\n",
       "    <tr>\n",
       "      <th>min</th>\n",
       "      <td>3.000000</td>\n",
       "      <td>1.000000</td>\n",
       "      <td>5.000000</td>\n",
       "    </tr>\n",
       "    <tr>\n",
       "      <th>25%</th>\n",
       "      <td>13.000000</td>\n",
       "      <td>1.250000</td>\n",
       "      <td>16.250000</td>\n",
       "    </tr>\n",
       "    <tr>\n",
       "      <th>50%</th>\n",
       "      <td>27.000000</td>\n",
       "      <td>3.000000</td>\n",
       "      <td>61.000000</td>\n",
       "    </tr>\n",
       "    <tr>\n",
       "      <th>75%</th>\n",
       "      <td>42.000000</td>\n",
       "      <td>8.000000</td>\n",
       "      <td>282.250000</td>\n",
       "    </tr>\n",
       "    <tr>\n",
       "      <th>max</th>\n",
       "      <td>76.000000</td>\n",
       "      <td>41.000000</td>\n",
       "      <td>1076.000000</td>\n",
       "    </tr>\n",
       "  </tbody>\n",
       "</table>\n",
       "</div>"
      ],
      "text/plain": [
       "       Words per sentence  Sentence per paragraph  Words per paragraph\n",
       "count          257.000000               38.000000            38.000000\n",
       "mean            29.894942                6.763158           202.184211\n",
       "std             19.038218                8.787073           275.197802\n",
       "min              3.000000                1.000000             5.000000\n",
       "25%             13.000000                1.250000            16.250000\n",
       "50%             27.000000                3.000000            61.000000\n",
       "75%             42.000000                8.000000           282.250000\n",
       "max             76.000000               41.000000          1076.000000"
      ]
     },
     "execution_count": 151,
     "metadata": {},
     "output_type": "execute_result"
    }
   ],
   "source": [
    "random_per_sentence_df, random_per_paragraph_df = dfs_for_paragraphs(np.random.choice(paragraphs_tokenized[~magic], sum(magic)))\n",
    "pd.concat([random_per_sentence_df.describe(), random_per_paragraph_df.describe()], axis=1)"
   ]
  },
  {
   "cell_type": "code",
   "execution_count": 152,
   "metadata": {},
   "outputs": [
    {
     "data": {
      "image/png": "[encoded data removed]",
      "text/plain": [
       "<Figure size 576x432 with 1 Axes>"
      ]
     },
     "metadata": {},
     "output_type": "display_data"
    }
   ],
   "source": [
    "fig, ax = plt.subplots(figsize=(8,6))\n",
    "sns.distplot(random_per_sentence_df, ax=ax,hist=True, label='random')\n",
    "sns.distplot(not_magic_per_sentence_df, ax=ax, hist=True, label='not magic')\n",
    "ax.set_xlim(0, per_sentence_df.quantile(0.99).max());\n",
    "ax.set_ylabel(\"density\")\n",
    "ax.set_xlabel(\"number of words\")\n",
    "ax.set_title(\"Density of number of words per sentence\")\n",
    "ax.legend();"
   ]
  },
  {
   "cell_type": "code",
   "execution_count": 153,
   "metadata": {},
   "outputs": [
    {
     "data": {
      "image/png": "[encoded data removed]",
      "text/plain": [
       "<Figure size 720x576 with 1 Axes>"
      ]
     },
     "metadata": {},
     "output_type": "display_data"
    }
   ],
   "source": [
    "fig, ax = plt.subplots(figsize=(10,8))\n",
    "sns.distplot(random_per_paragraph_df['Sentence per paragraph'], ax=ax, label='random')\n",
    "sns.distplot(not_magic_per_paragraph_df['Sentence per paragraph'], ax=ax, label='not magic')\n",
    "# ax.set_xlim(0, not_magic_per_paragraph_df['Sentence per paragraph'].quantile(0.99));\n",
    "ax.set_ylabel(\"density\")\n",
    "ax.set_xlabel(\"number of sentence\")\n",
    "ax.set_title(\"Density of number of sentence per paragraph\")\n",
    "ax.legend();"
   ]
  },
  {
   "cell_type": "code",
   "execution_count": 154,
   "metadata": {},
   "outputs": [
    {
     "data": {
      "image/png": "[encoded data removed]",
      "text/plain": [
       "<Figure size 720x576 with 1 Axes>"
      ]
     },
     "metadata": {},
     "output_type": "display_data"
    }
   ],
   "source": [
    "fig, ax = plt.subplots(figsize=(10,8))\n",
    "sns.distplot(random_per_paragraph_df['Words per paragraph'], ax=ax, label='random')\n",
    "sns.distplot(not_magic_per_paragraph_df['Words per paragraph'], ax=ax, label='not magic')\n",
    "# ax.set_xlim(0, not_magic_per_paragraph_df['Sentence per paragraph'].quantile(0.99));\n",
    "ax.set_ylabel(\"density\")\n",
    "ax.set_xlabel(\"number of sentence\")\n",
    "ax.set_title(\"Density of number of sentence per paragraph\")\n",
    "ax.legend();"
   ]
  },
  {
   "cell_type": "markdown",
   "metadata": {},
   "source": [
    "Some check with K-S test, this test tries to reject the null hypothesis that both datasets are coming from the same distribution. "
   ]
  },
  {
   "cell_type": "code",
   "execution_count": 155,
   "metadata": {},
   "outputs": [
    {
     "name": "stdout",
     "output_type": "stream",
     "text": [
      "Between magic and not magic:\n",
      "For Words per sentence: Ks_2sampResult(statistic=0.08309462064294859, pvalue=0.005422253921074399)\n",
      "For Sentence per paragraph: Ks_2sampResult(statistic=0.43096206851292823, pvalue=1.5008867823569327e-06)\n",
      "For Words per paragraph: Ks_2sampResult(statistic=0.44159338495865597, pvalue=7.420679319512843e-07)\n",
      "\n",
      "Between random and not magic:\n",
      "For Words per sentence: Ks_2sampResult(statistic=0.05199379412166294, pvalue=0.5135897774056727)\n",
      "For Sentence per paragraph: Ks_2sampResult(statistic=0.07074419215120098, pvalue=0.9912926925321597)\n",
      "For Words per paragraph: Ks_2sampResult(statistic=0.08970993568709795, pvalue=0.9200186064690101)\n"
     ]
    }
   ],
   "source": [
    "print(\"Between magic and not magic:\")\n",
    "print(\"For Words per sentence:\", scipy.stats.ks_2samp(magic_per_sentence_df['Words per sentence'], not_magic_per_sentence_df['Words per sentence']))\n",
    "print(\"For Sentence per paragraph:\", scipy.stats.ks_2samp(magic_per_paragraph_df['Sentence per paragraph'], not_magic_per_paragraph_df['Sentence per paragraph']))\n",
    "print(\"For Words per paragraph:\", scipy.stats.ks_2samp(magic_per_paragraph_df['Words per paragraph'], not_magic_per_paragraph_df['Words per paragraph']))\n",
    "print(\"\")\n",
    "print(\"Between random and not magic:\")\n",
    "print(\"For Words per sentence:\", scipy.stats.ks_2samp(random_per_sentence_df['Words per sentence'], not_magic_per_sentence_df['Words per sentence']))\n",
    "print(\"For Sentence per paragraph:\", scipy.stats.ks_2samp(random_per_paragraph_df['Sentence per paragraph'], not_magic_per_paragraph_df['Sentence per paragraph']))\n",
    "print(\"For Words per paragraph:\", scipy.stats.ks_2samp(random_per_paragraph_df['Words per paragraph'], not_magic_per_paragraph_df['Words per paragraph']))"
   ]
  },
  {
   "cell_type": "markdown",
   "metadata": {},
   "source": [
    "The test shows that for the sentence and words per paragraph for magic and non-magic, there is a high change that is does not come from the same distribution, in the other cases, it seems to be from the same distribution."
   ]
  },
  {
   "cell_type": "markdown",
   "metadata": {},
   "source": [
    "### Text analysis\n",
    "#### Word occurences"
   ]
  },
  {
   "cell_type": "code",
   "execution_count": 253,
   "metadata": {},
   "outputs": [],
   "source": [
    "def normalize_counter(counter):\n",
    "    count = sum(counter.values(), 0.0)\n",
    "    for k in counter.keys():\n",
    "        counter[k] /= count"
   ]
  },
  {
   "cell_type": "code",
   "execution_count": 997,
   "metadata": {},
   "outputs": [],
   "source": [
    "stopwords = nltk.corpus.stopwords.words('spanish')\n",
    "punctuation = list(punctuation)\n",
    "punctuation.extend(['¿', '¡', '—', '«', '»'])\n",
    "names = ['aureliano', 'úrsula', 'arcadio', 'josé', 'buendía', 'amaranta', 'fernanda', 'buendia', 'melquíades', 'macondo', 'rebeca', 'prudencio', 'crespi', 'meme']\n",
    "others = ['tan', 'vez', 'después', 'si']\n",
    "\n",
    "to_remove = stopwords + punctuation + names + others"
   ]
  },
  {
   "cell_type": "code",
   "execution_count": 998,
   "metadata": {},
   "outputs": [],
   "source": [
    "words_not_magic = Counter([word.lower() for paragraph in paragraphs_tokenized[~magic] for sentence in paragraph for word in sentence if word.lower() not in to_remove])\n",
    "normalize_counter(words_not_magic)\n",
    "words_magic = Counter([word.lower() for paragraph in paragraphs_tokenized[magic] for sentence in paragraph for word in sentence if word.lower() not in to_remove])\n",
    "normalize_counter(words_magic)"
   ]
  },
  {
   "cell_type": "code",
   "execution_count": 1014,
   "metadata": {},
   "outputs": [
    {
     "data": {
      "text/html": [
       "<div>\n",
       "<style scoped>\n",
       "    .dataframe tbody tr th:only-of-type {\n",
       "        vertical-align: middle;\n",
       "    }\n",
       "\n",
       "    .dataframe tbody tr th {\n",
       "        vertical-align: top;\n",
       "    }\n",
       "\n",
       "    .dataframe thead th {\n",
       "        text-align: right;\n",
       "    }\n",
       "</style>\n",
       "<table border=\"1\" class=\"dataframe\">\n",
       "  <thead>\n",
       "    <tr style=\"text-align: right;\">\n",
       "      <th></th>\n",
       "      <th>ocurrence in magic</th>\n",
       "    </tr>\n",
       "  </thead>\n",
       "  <tbody>\n",
       "    <tr>\n",
       "      <th>count</th>\n",
       "      <td>3438.000000</td>\n",
       "    </tr>\n",
       "    <tr>\n",
       "      <th>mean</th>\n",
       "      <td>0.000291</td>\n",
       "    </tr>\n",
       "    <tr>\n",
       "      <th>std</th>\n",
       "      <td>0.000374</td>\n",
       "    </tr>\n",
       "    <tr>\n",
       "      <th>min</th>\n",
       "      <td>0.000159</td>\n",
       "    </tr>\n",
       "    <tr>\n",
       "      <th>25%</th>\n",
       "      <td>0.000159</td>\n",
       "    </tr>\n",
       "    <tr>\n",
       "      <th>50%</th>\n",
       "      <td>0.000159</td>\n",
       "    </tr>\n",
       "    <tr>\n",
       "      <th>75%</th>\n",
       "      <td>0.000317</td>\n",
       "    </tr>\n",
       "    <tr>\n",
       "      <th>max</th>\n",
       "      <td>0.007612</td>\n",
       "    </tr>\n",
       "  </tbody>\n",
       "</table>\n",
       "</div>"
      ],
      "text/plain": [
       "       ocurrence in magic\n",
       "count         3438.000000\n",
       "mean             0.000291\n",
       "std              0.000374\n",
       "min              0.000159\n",
       "25%              0.000159\n",
       "50%              0.000159\n",
       "75%              0.000317\n",
       "max              0.007612"
      ]
     },
     "execution_count": 1014,
     "metadata": {},
     "output_type": "execute_result"
    }
   ],
   "source": [
    "pd.DataFrame(list(words_magic.values()), columns=['ocurrence in magic']).describe()"
   ]
  },
  {
   "cell_type": "code",
   "execution_count": 1015,
   "metadata": {},
   "outputs": [
    {
     "data": {
      "text/html": [
       "<div>\n",
       "<style scoped>\n",
       "    .dataframe tbody tr th:only-of-type {\n",
       "        vertical-align: middle;\n",
       "    }\n",
       "\n",
       "    .dataframe tbody tr th {\n",
       "        vertical-align: top;\n",
       "    }\n",
       "\n",
       "    .dataframe thead th {\n",
       "        text-align: right;\n",
       "    }\n",
       "</style>\n",
       "<table border=\"1\" class=\"dataframe\">\n",
       "  <thead>\n",
       "    <tr style=\"text-align: right;\">\n",
       "      <th></th>\n",
       "      <th>ocurrence in not magic</th>\n",
       "    </tr>\n",
       "  </thead>\n",
       "  <tbody>\n",
       "    <tr>\n",
       "      <th>count</th>\n",
       "      <td>14094.000000</td>\n",
       "    </tr>\n",
       "    <tr>\n",
       "      <th>mean</th>\n",
       "      <td>0.000071</td>\n",
       "    </tr>\n",
       "    <tr>\n",
       "      <th>std</th>\n",
       "      <td>0.000196</td>\n",
       "    </tr>\n",
       "    <tr>\n",
       "      <th>min</th>\n",
       "      <td>0.000017</td>\n",
       "    </tr>\n",
       "    <tr>\n",
       "      <th>25%</th>\n",
       "      <td>0.000017</td>\n",
       "    </tr>\n",
       "    <tr>\n",
       "      <th>50%</th>\n",
       "      <td>0.000017</td>\n",
       "    </tr>\n",
       "    <tr>\n",
       "      <th>75%</th>\n",
       "      <td>0.000052</td>\n",
       "    </tr>\n",
       "    <tr>\n",
       "      <th>max</th>\n",
       "      <td>0.007167</td>\n",
       "    </tr>\n",
       "  </tbody>\n",
       "</table>\n",
       "</div>"
      ],
      "text/plain": [
       "       ocurrence in not magic\n",
       "count            14094.000000\n",
       "mean                 0.000071\n",
       "std                  0.000196\n",
       "min                  0.000017\n",
       "25%                  0.000017\n",
       "50%                  0.000017\n",
       "75%                  0.000052\n",
       "max                  0.007167"
      ]
     },
     "execution_count": 1015,
     "metadata": {},
     "output_type": "execute_result"
    }
   ],
   "source": [
    "pd.DataFrame(list(words_not_magic.values()), columns=['ocurrence in not magic']).describe()"
   ]
  },
  {
   "cell_type": "code",
   "execution_count": 999,
   "metadata": {},
   "outputs": [
    {
     "data": {
      "text/plain": [
       "[('casa', 0.0071671588691432225),\n",
       " ('coronel', 0.005025646339567898),\n",
       " ('dijo', 0.0046802410928622005),\n",
       " ('segundo', 0.004628430305856346),\n",
       " ('entonces', 0.004334835846156503),\n",
       " ('tiempo', 0.004179403485138939),\n",
       " ('sino', 0.0034540524670569747),\n",
       " ('sólo', 0.003281349843704126),\n",
       " ('mientras', 0.0030395661710101375),\n",
       " ('dos', 0.002953214859333713),\n",
       " ('noche', 0.0029186743346631436),\n",
       " ('años', 0.0028150527606514344),\n",
       " ('hizo', 0.0025041880386163064),\n",
       " ('guerra', 0.0024005664646045972),\n",
       " ('día', 0.0023832962022693124),\n",
       " ('tarde', 0.002348755677598743),\n",
       " ('nadie', 0.002331485415263458),\n",
       " ('hombre', 0.002296944890592888),\n",
       " ('mismo', 0.0022451341035870337),\n",
       " ('mujer', 0.0022105935789164637)]"
      ]
     },
     "execution_count": 999,
     "metadata": {},
     "output_type": "execute_result"
    }
   ],
   "source": [
    "words_not_magic.most_common(20)"
   ]
  },
  {
   "cell_type": "code",
   "execution_count": 1000,
   "metadata": {},
   "outputs": [
    {
     "data": {
      "text/plain": [
       "[('casa', 0.007611798287345386),\n",
       " ('segundo', 0.006343165239454488),\n",
       " ('tiempo', 0.004281636536631779),\n",
       " ('nadie', 0.004281636536631779),\n",
       " ('cuarto', 0.004123057405645417),\n",
       " ('años', 0.0036473200126863306),\n",
       " ('entonces', 0.003330161750713606),\n",
       " ('coronel', 0.003330161750713606),\n",
       " ('siempre', 0.003171582619727244),\n",
       " ('dos', 0.003171582619727244),\n",
       " ('día', 0.0030130034887408817),\n",
       " ('sino', 0.0030130034887408817),\n",
       " ('pueblo', 0.0030130034887408817),\n",
       " ('puerta', 0.0028544243577545195),\n",
       " ('vida', 0.0026958452267681573),\n",
       " ('mientras', 0.002537266095781795),\n",
       " ('tres', 0.002537266095781795),\n",
       " ('padre', 0.002378686964795433),\n",
       " ('hizo', 0.002378686964795433),\n",
       " ('meses', 0.002378686964795433)]"
      ]
     },
     "execution_count": 1000,
     "metadata": {},
     "output_type": "execute_result"
    }
   ],
   "source": [
    "words_magic.most_common(20)"
   ]
  },
  {
   "cell_type": "code",
   "execution_count": 1001,
   "metadata": {},
   "outputs": [
    {
     "data": {
      "image/png": "[encoded data removed]",
      "text/plain": [
       "<Figure size 432x432 with 3 Axes>"
      ]
     },
     "metadata": {},
     "output_type": "display_data"
    }
   ],
   "source": [
    "top_n = 1000\n",
    "all_words_top_n = list(set([x[0] for x in words_magic.most_common(top_n)])\\\n",
    "    .union(set([x[0] for x in words_not_magic.most_common(top_n)])))\n",
    "words_magic_top_n = np.array([words_magic[word] for word in all_words_top_n])\n",
    "words_not_magic_top_n = np.array([words_not_magic[word] for word in all_words_top_n])\n",
    "g = sns.JointGrid(x=words_magic_top_n, y=words_not_magic_top_n)\n",
    "g = g.plot(sns.regplot, sns.distplot)\n",
    "g = g.annotate(scipy.stats.pearsonr)\n",
    "g = g.set_axis_labels(\"Magic passages word occurences\", \"Not magic passages word occurences\")"
   ]
  },
  {
   "cell_type": "code",
   "execution_count": 1002,
   "metadata": {},
   "outputs": [],
   "source": [
    "n = 25\n",
    "diff = (words_magic_top_n-words_not_magic_top_n)\n",
    "n_in_magic = diff.argsort()[-n:][::-1]\n",
    "n_not_in_magic = diff.argsort()[:n]"
   ]
  },
  {
   "cell_type": "code",
   "execution_count": 1003,
   "metadata": {},
   "outputs": [
    {
     "data": {
      "text/html": [
       "<div>\n",
       "<style scoped>\n",
       "    .dataframe tbody tr th:only-of-type {\n",
       "        vertical-align: middle;\n",
       "    }\n",
       "\n",
       "    .dataframe tbody tr th {\n",
       "        vertical-align: top;\n",
       "    }\n",
       "\n",
       "    .dataframe thead th {\n",
       "        text-align: right;\n",
       "    }\n",
       "</style>\n",
       "<table border=\"1\" class=\"dataframe\">\n",
       "  <thead>\n",
       "    <tr style=\"text-align: right;\">\n",
       "      <th></th>\n",
       "      <th>diff</th>\n",
       "      <th>magic freq</th>\n",
       "      <th>not magic freq</th>\n",
       "    </tr>\n",
       "    <tr>\n",
       "      <th>term</th>\n",
       "      <th></th>\n",
       "      <th></th>\n",
       "      <th></th>\n",
       "    </tr>\n",
       "  </thead>\n",
       "  <tbody>\n",
       "    <tr>\n",
       "      <th>cuarto</th>\n",
       "      <td>0.0021369772370876563</td>\n",
       "      <td>0.004123057405645417</td>\n",
       "      <td>0.0019860801685577605</td>\n",
       "    </tr>\n",
       "    <tr>\n",
       "      <th>nadie</th>\n",
       "      <td>0.001950151121368321</td>\n",
       "      <td>0.004281636536631779</td>\n",
       "      <td>0.002331485415263458</td>\n",
       "    </tr>\n",
       "    <tr>\n",
       "      <th>segundo</th>\n",
       "      <td>0.0017147349335981422</td>\n",
       "      <td>0.006343165239454488</td>\n",
       "      <td>0.004628430305856346</td>\n",
       "    </tr>\n",
       "    <tr>\n",
       "      <th>pueblo</th>\n",
       "      <td>0.001355058304553534</td>\n",
       "      <td>0.0030130034887408817</td>\n",
       "      <td>0.0016579451841873477</td>\n",
       "    </tr>\n",
       "    <tr>\n",
       "      <th>puerta</th>\n",
       "      <td>0.001300100747578881</td>\n",
       "      <td>0.0028544243577545195</td>\n",
       "      <td>0.0015543236101756386</td>\n",
       "    </tr>\n",
       "    <tr>\n",
       "      <th>siempre</th>\n",
       "      <td>0.001254583500510623</td>\n",
       "      <td>0.003171582619727244</td>\n",
       "      <td>0.001916999119216621</td>\n",
       "    </tr>\n",
       "    <tr>\n",
       "      <th>calle</th>\n",
       "      <td>0.001080270519680269</td>\n",
       "      <td>0.0022201078338090706</td>\n",
       "      <td>0.0011398373141288016</td>\n",
       "    </tr>\n",
       "    <tr>\n",
       "      <th>siguió</th>\n",
       "      <td>0.0010362896851033045</td>\n",
       "      <td>0.0017443704408499842</td>\n",
       "      <td>0.0007080807557466798</td>\n",
       "    </tr>\n",
       "    <tr>\n",
       "      <th>pasó</th>\n",
       "      <td>0.001033142915134506</td>\n",
       "      <td>0.001585791309863622</td>\n",
       "      <td>0.0005526483947291159</td>\n",
       "    </tr>\n",
       "    <tr>\n",
       "      <th>aguilar</th>\n",
       "      <td>0.0010268493751969094</td>\n",
       "      <td>0.0012686330478908975</td>\n",
       "      <td>0.0002417836726939882</td>\n",
       "    </tr>\n",
       "    <tr>\n",
       "      <th>gente</th>\n",
       "      <td>0.0009672086357621649</td>\n",
       "      <td>0.0017443704408499842</td>\n",
       "      <td>0.0007771618050878193</td>\n",
       "    </tr>\n",
       "    <tr>\n",
       "      <th>aire</th>\n",
       "      <td>0.0009326681110915951</td>\n",
       "      <td>0.0017443704408499842</td>\n",
       "      <td>0.0008117023297583891</td>\n",
       "    </tr>\n",
       "    <tr>\n",
       "      <th>luz</th>\n",
       "      <td>0.0009263745711539984</td>\n",
       "      <td>0.0014272121788772598</td>\n",
       "      <td>0.0005008376077232613</td>\n",
       "    </tr>\n",
       "    <tr>\n",
       "      <th>igual</th>\n",
       "      <td>0.0009232278011852001</td>\n",
       "      <td>0.0012686330478908975</td>\n",
       "      <td>0.00034540524670569745</td>\n",
       "    </tr>\n",
       "    <tr>\n",
       "      <th>ventanas</th>\n",
       "      <td>0.0009059575388499152</td>\n",
       "      <td>0.0012686330478908975</td>\n",
       "      <td>0.00036267550904098235</td>\n",
       "    </tr>\n",
       "    <tr>\n",
       "      <th>salió</th>\n",
       "      <td>0.0008886872765146304</td>\n",
       "      <td>0.0012686330478908975</td>\n",
       "      <td>0.0003799457713762672</td>\n",
       "    </tr>\n",
       "    <tr>\n",
       "      <th>verdad</th>\n",
       "      <td>0.000857293521812859</td>\n",
       "      <td>0.0014272121788772598</td>\n",
       "      <td>0.0005699186570644008</td>\n",
       "    </tr>\n",
       "    <tr>\n",
       "      <th>llevaron</th>\n",
       "      <td>0.000857293521812859</td>\n",
       "      <td>0.0014272121788772598</td>\n",
       "      <td>0.0005699186570644008</td>\n",
       "    </tr>\n",
       "    <tr>\n",
       "      <th>vida</th>\n",
       "      <td>0.000847927156892676</td>\n",
       "      <td>0.0026958452267681573</td>\n",
       "      <td>0.0018479180698754813</td>\n",
       "    </tr>\n",
       "    <tr>\n",
       "      <th>luego</th>\n",
       "      <td>0.0008463167994151708</td>\n",
       "      <td>0.0017443704408499842</td>\n",
       "      <td>0.0008980536414348134</td>\n",
       "    </tr>\n",
       "    <tr>\n",
       "      <th>años</th>\n",
       "      <td>0.0008322672520348962</td>\n",
       "      <td>0.0036473200126863306</td>\n",
       "      <td>0.0028150527606514344</td>\n",
       "    </tr>\n",
       "    <tr>\n",
       "      <th>curiosidad</th>\n",
       "      <td>0.0008164594572046925</td>\n",
       "      <td>0.0011100539169045353</td>\n",
       "      <td>0.00029359445969984286</td>\n",
       "    </tr>\n",
       "    <tr>\n",
       "      <th>miércoles</th>\n",
       "      <td>0.0008133126872358942</td>\n",
       "      <td>0.0009514747859181732</td>\n",
       "      <td>0.00013816209868227898</td>\n",
       "    </tr>\n",
       "    <tr>\n",
       "      <th>varios</th>\n",
       "      <td>0.0008054827348070044</td>\n",
       "      <td>0.0014272121788772598</td>\n",
       "      <td>0.0006217294440702554</td>\n",
       "    </tr>\n",
       "    <tr>\n",
       "      <th>mesa</th>\n",
       "      <td>0.0007913592424405178</td>\n",
       "      <td>0.001585791309863622</td>\n",
       "      <td>0.0007944320674231042</td>\n",
       "    </tr>\n",
       "  </tbody>\n",
       "</table>\n",
       "</div>"
      ],
      "text/plain": [
       "                             diff             magic freq  \\\n",
       "term                                                       \n",
       "cuarto      0.0021369772370876563   0.004123057405645417   \n",
       "nadie        0.001950151121368321   0.004281636536631779   \n",
       "segundo     0.0017147349335981422   0.006343165239454488   \n",
       "pueblo       0.001355058304553534  0.0030130034887408817   \n",
       "puerta       0.001300100747578881  0.0028544243577545195   \n",
       "siempre      0.001254583500510623   0.003171582619727244   \n",
       "calle        0.001080270519680269  0.0022201078338090706   \n",
       "siguió      0.0010362896851033045  0.0017443704408499842   \n",
       "pasó         0.001033142915134506   0.001585791309863622   \n",
       "aguilar     0.0010268493751969094  0.0012686330478908975   \n",
       "gente       0.0009672086357621649  0.0017443704408499842   \n",
       "aire        0.0009326681110915951  0.0017443704408499842   \n",
       "luz         0.0009263745711539984  0.0014272121788772598   \n",
       "igual       0.0009232278011852001  0.0012686330478908975   \n",
       "ventanas    0.0009059575388499152  0.0012686330478908975   \n",
       "salió       0.0008886872765146304  0.0012686330478908975   \n",
       "verdad       0.000857293521812859  0.0014272121788772598   \n",
       "llevaron     0.000857293521812859  0.0014272121788772598   \n",
       "vida         0.000847927156892676  0.0026958452267681573   \n",
       "luego       0.0008463167994151708  0.0017443704408499842   \n",
       "años        0.0008322672520348962  0.0036473200126863306   \n",
       "curiosidad  0.0008164594572046925  0.0011100539169045353   \n",
       "miércoles   0.0008133126872358942  0.0009514747859181732   \n",
       "varios      0.0008054827348070044  0.0014272121788772598   \n",
       "mesa        0.0007913592424405178   0.001585791309863622   \n",
       "\n",
       "                    not magic freq  \n",
       "term                                \n",
       "cuarto       0.0019860801685577605  \n",
       "nadie         0.002331485415263458  \n",
       "segundo       0.004628430305856346  \n",
       "pueblo       0.0016579451841873477  \n",
       "puerta       0.0015543236101756386  \n",
       "siempre       0.001916999119216621  \n",
       "calle        0.0011398373141288016  \n",
       "siguió       0.0007080807557466798  \n",
       "pasó         0.0005526483947291159  \n",
       "aguilar      0.0002417836726939882  \n",
       "gente        0.0007771618050878193  \n",
       "aire         0.0008117023297583891  \n",
       "luz          0.0005008376077232613  \n",
       "igual       0.00034540524670569745  \n",
       "ventanas    0.00036267550904098235  \n",
       "salió        0.0003799457713762672  \n",
       "verdad       0.0005699186570644008  \n",
       "llevaron     0.0005699186570644008  \n",
       "vida         0.0018479180698754813  \n",
       "luego        0.0008980536414348134  \n",
       "años         0.0028150527606514344  \n",
       "curiosidad  0.00029359445969984286  \n",
       "miércoles   0.00013816209868227898  \n",
       "varios       0.0006217294440702554  \n",
       "mesa         0.0007944320674231042  "
      ]
     },
     "execution_count": 1003,
     "metadata": {},
     "output_type": "execute_result"
    }
   ],
   "source": [
    "pd.DataFrame(np.concatenate([np.array(all_words_top_n)[n_in_magic].reshape(-1,1), diff[n_in_magic].reshape(-1,1), words_magic_top_n[n_in_magic].reshape(-1,1), words_not_magic_top_n[n_in_magic].reshape(-1,1)], axis=1), columns=['term', 'diff', 'magic freq', 'not magic freq']).set_index('term')"
   ]
  },
  {
   "cell_type": "code",
   "execution_count": 1004,
   "metadata": {},
   "outputs": [
    {
     "data": {
      "text/html": [
       "<div>\n",
       "<style scoped>\n",
       "    .dataframe tbody tr th:only-of-type {\n",
       "        vertical-align: middle;\n",
       "    }\n",
       "\n",
       "    .dataframe tbody tr th {\n",
       "        vertical-align: top;\n",
       "    }\n",
       "\n",
       "    .dataframe thead th {\n",
       "        text-align: right;\n",
       "    }\n",
       "</style>\n",
       "<table border=\"1\" class=\"dataframe\">\n",
       "  <thead>\n",
       "    <tr style=\"text-align: right;\">\n",
       "      <th></th>\n",
       "      <th>diff</th>\n",
       "      <th>magic freq</th>\n",
       "      <th>not magic freq</th>\n",
       "    </tr>\n",
       "    <tr>\n",
       "      <th>term</th>\n",
       "      <th></th>\n",
       "      <th></th>\n",
       "      <th></th>\n",
       "    </tr>\n",
       "  </thead>\n",
       "  <tbody>\n",
       "    <tr>\n",
       "      <th>dijo</th>\n",
       "      <td>-0.002777291521025854</td>\n",
       "      <td>0.0019029495718363464</td>\n",
       "      <td>0.0046802410928622005</td>\n",
       "    </tr>\n",
       "    <tr>\n",
       "      <th>coronel</th>\n",
       "      <td>-0.0016954845888542919</td>\n",
       "      <td>0.003330161750713606</td>\n",
       "      <td>0.005025646339567898</td>\n",
       "    </tr>\n",
       "    <tr>\n",
       "      <th>aquel</th>\n",
       "      <td>-0.0013721806769163947</td>\n",
       "      <td>0.0004757373929590866</td>\n",
       "      <td>0.0018479180698754813</td>\n",
       "    </tr>\n",
       "    <tr>\n",
       "      <th>primera</th>\n",
       "      <td>-0.0012403121181717126</td>\n",
       "      <td>0.0001585791309863622</td>\n",
       "      <td>0.0013988912491580748</td>\n",
       "    </tr>\n",
       "    <tr>\n",
       "      <th>hombre</th>\n",
       "      <td>-0.0011868909736883527</td>\n",
       "      <td>0.0011100539169045353</td>\n",
       "      <td>0.002296944890592888</td>\n",
       "    </tr>\n",
       "    <tr>\n",
       "      <th>sólo</th>\n",
       "      <td>-0.0010612420098950553</td>\n",
       "      <td>0.0022201078338090706</td>\n",
       "      <td>0.003281349843704126</td>\n",
       "    </tr>\n",
       "    <tr>\n",
       "      <th>noche</th>\n",
       "      <td>-0.0010157247628267971</td>\n",
       "      <td>0.0019029495718363464</td>\n",
       "      <td>0.0029186743346631436</td>\n",
       "    </tr>\n",
       "    <tr>\n",
       "      <th>corazón</th>\n",
       "      <td>-0.0010126519378442108</td>\n",
       "      <td>0.0003171582619727244</td>\n",
       "      <td>0.0013298101998169352</td>\n",
       "    </tr>\n",
       "    <tr>\n",
       "      <th>entonces</th>\n",
       "      <td>-0.0010046740954428967</td>\n",
       "      <td>0.003330161750713606</td>\n",
       "      <td>0.004334835846156503</td>\n",
       "    </tr>\n",
       "    <tr>\n",
       "      <th>remedi</th>\n",
       "      <td>-0.0009655243332984477</td>\n",
       "      <td>0.0009514747859181732</td>\n",
       "      <td>0.001916999119216621</td>\n",
       "    </tr>\n",
       "    <tr>\n",
       "      <th>pietro</th>\n",
       "      <td>-0.0009639879208071546</td>\n",
       "      <td>0.0001585791309863622</td>\n",
       "      <td>0.0011225670517935168</td>\n",
       "    </tr>\n",
       "    <tr>\n",
       "      <th>mano</th>\n",
       "      <td>-0.0009404241185342729</td>\n",
       "      <td>0.0004757373929590866</td>\n",
       "      <td>0.0014161615114933596</td>\n",
       "    </tr>\n",
       "    <tr>\n",
       "      <th>ternera</th>\n",
       "      <td>-0.0008430960844601604</td>\n",
       "      <td>0.0001585791309863622</td>\n",
       "      <td>0.0010016752154465226</td>\n",
       "    </tr>\n",
       "    <tr>\n",
       "      <th>hecho</th>\n",
       "      <td>-0.0008226790521560772</td>\n",
       "      <td>0.0003171582619727244</td>\n",
       "      <td>0.0011398373141288016</td>\n",
       "    </tr>\n",
       "    <tr>\n",
       "      <th>muerte</th>\n",
       "      <td>-0.0007661111377039191</td>\n",
       "      <td>0.0014272121788772598</td>\n",
       "      <td>0.002193323316581179</td>\n",
       "    </tr>\n",
       "    <tr>\n",
       "      <th>horas</th>\n",
       "      <td>-0.000764574725212626</td>\n",
       "      <td>0.0006343165239454488</td>\n",
       "      <td>0.0013988912491580748</td>\n",
       "    </tr>\n",
       "    <tr>\n",
       "      <th>misma</th>\n",
       "      <td>-0.0007614279552438276</td>\n",
       "      <td>0.000792895654931811</td>\n",
       "      <td>0.0015543236101756386</td>\n",
       "    </tr>\n",
       "    <tr>\n",
       "      <th>modo</th>\n",
       "      <td>-0.0007268874305732578</td>\n",
       "      <td>0.000792895654931811</td>\n",
       "      <td>0.0015197830855050688</td>\n",
       "    </tr>\n",
       "    <tr>\n",
       "      <th>encontró</th>\n",
       "      <td>-0.0007268874305732578</td>\n",
       "      <td>0.000792895654931811</td>\n",
       "      <td>0.0015197830855050688</td>\n",
       "    </tr>\n",
       "    <tr>\n",
       "      <th>hija</th>\n",
       "      <td>-0.0007253510180819647</td>\n",
       "      <td>0.0</td>\n",
       "      <td>0.0007253510180819647</td>\n",
       "    </tr>\n",
       "    <tr>\n",
       "      <th>voz</th>\n",
       "      <td>-0.000719057478144368</td>\n",
       "      <td>0.0003171582619727244</td>\n",
       "      <td>0.0010362157401170924</td>\n",
       "    </tr>\n",
       "    <tr>\n",
       "      <th>cinco</th>\n",
       "      <td>-0.0007049339857778815</td>\n",
       "      <td>0.0001585791309863622</td>\n",
       "      <td>0.0008635131167642437</td>\n",
       "    </tr>\n",
       "    <tr>\n",
       "      <th>tierra</th>\n",
       "      <td>-0.0006986404458402848</td>\n",
       "      <td>0.0004757373929590866</td>\n",
       "      <td>0.0011743778387993714</td>\n",
       "    </tr>\n",
       "    <tr>\n",
       "      <th>orden</th>\n",
       "      <td>-0.0006703934611073117</td>\n",
       "      <td>0.0001585791309863622</td>\n",
       "      <td>0.0008289725920936739</td>\n",
       "    </tr>\n",
       "    <tr>\n",
       "      <th>todavía</th>\n",
       "      <td>-0.0006609531512009166</td>\n",
       "      <td>0.0006343165239454488</td>\n",
       "      <td>0.0012952696751463654</td>\n",
       "    </tr>\n",
       "  </tbody>\n",
       "</table>\n",
       "</div>"
      ],
      "text/plain": [
       "                            diff             magic freq         not magic freq\n",
       "term                                                                          \n",
       "dijo       -0.002777291521025854  0.0019029495718363464  0.0046802410928622005\n",
       "coronel   -0.0016954845888542919   0.003330161750713606   0.005025646339567898\n",
       "aquel     -0.0013721806769163947  0.0004757373929590866  0.0018479180698754813\n",
       "primera   -0.0012403121181717126  0.0001585791309863622  0.0013988912491580748\n",
       "hombre    -0.0011868909736883527  0.0011100539169045353   0.002296944890592888\n",
       "sólo      -0.0010612420098950553  0.0022201078338090706   0.003281349843704126\n",
       "noche     -0.0010157247628267971  0.0019029495718363464  0.0029186743346631436\n",
       "corazón   -0.0010126519378442108  0.0003171582619727244  0.0013298101998169352\n",
       "entonces  -0.0010046740954428967   0.003330161750713606   0.004334835846156503\n",
       "remedi    -0.0009655243332984477  0.0009514747859181732   0.001916999119216621\n",
       "pietro    -0.0009639879208071546  0.0001585791309863622  0.0011225670517935168\n",
       "mano      -0.0009404241185342729  0.0004757373929590866  0.0014161615114933596\n",
       "ternera   -0.0008430960844601604  0.0001585791309863622  0.0010016752154465226\n",
       "hecho     -0.0008226790521560772  0.0003171582619727244  0.0011398373141288016\n",
       "muerte    -0.0007661111377039191  0.0014272121788772598   0.002193323316581179\n",
       "horas      -0.000764574725212626  0.0006343165239454488  0.0013988912491580748\n",
       "misma     -0.0007614279552438276   0.000792895654931811  0.0015543236101756386\n",
       "modo      -0.0007268874305732578   0.000792895654931811  0.0015197830855050688\n",
       "encontró  -0.0007268874305732578   0.000792895654931811  0.0015197830855050688\n",
       "hija      -0.0007253510180819647                    0.0  0.0007253510180819647\n",
       "voz        -0.000719057478144368  0.0003171582619727244  0.0010362157401170924\n",
       "cinco     -0.0007049339857778815  0.0001585791309863622  0.0008635131167642437\n",
       "tierra    -0.0006986404458402848  0.0004757373929590866  0.0011743778387993714\n",
       "orden     -0.0006703934611073117  0.0001585791309863622  0.0008289725920936739\n",
       "todavía   -0.0006609531512009166  0.0006343165239454488  0.0012952696751463654"
      ]
     },
     "execution_count": 1004,
     "metadata": {},
     "output_type": "execute_result"
    }
   ],
   "source": [
    "pd.DataFrame(np.concatenate([np.array(all_words_top_n)[n_not_in_magic].reshape(-1,1), diff[n_not_in_magic].reshape(-1,1), words_magic_top_n[n_not_in_magic].reshape(-1,1), words_not_magic_top_n[n_not_in_magic].reshape(-1,1)], axis=1), columns=['term', 'diff', 'magic freq', 'not magic freq']).set_index('term')"
   ]
  },
  {
   "cell_type": "markdown",
   "metadata": {},
   "source": [
    "#### Using word vectors"
   ]
  },
  {
   "cell_type": "code",
   "execution_count": 719,
   "metadata": {},
   "outputs": [],
   "source": [
    "import gensim, logging\n",
    "logging.basicConfig(format='%(asctime)s : %(levelname)s : %(message)s', level=logging.ERROR)"
   ]
  },
  {
   "cell_type": "code",
   "execution_count": 720,
   "metadata": {},
   "outputs": [],
   "source": [
    "magic_sentences = [[word.lower() for word in sentence if word not in to_remove] for paragraph in paragraphs_tokenized[magic] for sentence in paragraph]\n",
    "sentences = [[word.lower() for word in sentence if word.lower() not in to_remove] for paragraph in paragraphs_tokenized for sentence in paragraph]"
   ]
  },
  {
   "cell_type": "code",
   "execution_count": 723,
   "metadata": {
    "scrolled": true
   },
   "outputs": [
    {
     "name": "stderr",
     "output_type": "stream",
     "text": [
      "2018-04-23 10:00:53,073 : INFO : collecting all words and their counts\n",
      "2018-04-23 10:00:53,074 : INFO : PROGRESS: at sentence #0, processed 0 words, keeping 0 word types\n",
      "2018-04-23 10:00:53,095 : INFO : collected 14928 word types from a corpus of 64530 raw words and 5336 sentences\n",
      "2018-04-23 10:00:53,096 : INFO : Loading a fresh vocabulary\n",
      "2018-04-23 10:00:53,134 : INFO : min_count=1 retains 14928 unique words (100% of original 14928, drops 0)\n",
      "2018-04-23 10:00:53,134 : INFO : min_count=1 leaves 64530 word corpus (100% of original 64530, drops 0)\n",
      "2018-04-23 10:00:53,194 : INFO : deleting the raw counts dictionary of 14928 items\n",
      "2018-04-23 10:00:53,195 : INFO : sample=0.001 downsamples 12 most-common words\n",
      "2018-04-23 10:00:53,196 : INFO : downsampling leaves estimated 63753 word corpus (98.8% of prior 64530)\n",
      "2018-04-23 10:00:53,249 : INFO : estimated required memory for 14928 words and 100 dimensions: 19406400 bytes\n",
      "2018-04-23 10:00:53,250 : INFO : resetting layer weights\n",
      "2018-04-23 10:00:53,413 : INFO : training model with 3 workers on 14928 vocabulary and 100 features, using sg=0 hs=0 sample=0.001 negative=5 window=5\n",
      "2018-04-23 10:00:53,498 : INFO : worker thread finished; awaiting finish of 2 more threads\n",
      "2018-04-23 10:00:53,512 : INFO : worker thread finished; awaiting finish of 1 more threads\n",
      "2018-04-23 10:00:53,515 : INFO : worker thread finished; awaiting finish of 0 more threads\n",
      "2018-04-23 10:00:53,516 : INFO : EPOCH - 1 : training on 64530 raw words (63776 effective words) took 0.1s, 670428 effective words/s\n",
      "2018-04-23 10:00:53,602 : INFO : worker thread finished; awaiting finish of 2 more threads\n",
      "2018-04-23 10:00:53,614 : INFO : worker thread finished; awaiting finish of 1 more threads\n",
      "2018-04-23 10:00:53,621 : INFO : worker thread finished; awaiting finish of 0 more threads\n",
      "2018-04-23 10:00:53,622 : INFO : EPOCH - 2 : training on 64530 raw words (63756 effective words) took 0.1s, 656694 effective words/s\n",
      "2018-04-23 10:00:53,735 : INFO : worker thread finished; awaiting finish of 2 more threads\n",
      "2018-04-23 10:00:53,743 : INFO : worker thread finished; awaiting finish of 1 more threads\n",
      "2018-04-23 10:00:53,748 : INFO : worker thread finished; awaiting finish of 0 more threads\n",
      "2018-04-23 10:00:53,749 : INFO : EPOCH - 3 : training on 64530 raw words (63731 effective words) took 0.1s, 532824 effective words/s\n",
      "2018-04-23 10:00:53,845 : INFO : worker thread finished; awaiting finish of 2 more threads\n",
      "2018-04-23 10:00:53,848 : INFO : worker thread finished; awaiting finish of 1 more threads\n",
      "2018-04-23 10:00:53,856 : INFO : worker thread finished; awaiting finish of 0 more threads\n",
      "2018-04-23 10:00:53,857 : INFO : EPOCH - 4 : training on 64530 raw words (63714 effective words) took 0.1s, 632308 effective words/s\n",
      "2018-04-23 10:00:53,955 : INFO : worker thread finished; awaiting finish of 2 more threads\n",
      "2018-04-23 10:00:53,957 : INFO : worker thread finished; awaiting finish of 1 more threads\n",
      "2018-04-23 10:00:53,959 : INFO : worker thread finished; awaiting finish of 0 more threads\n",
      "2018-04-23 10:00:53,960 : INFO : EPOCH - 5 : training on 64530 raw words (63791 effective words) took 0.1s, 676332 effective words/s\n",
      "2018-04-23 10:00:53,961 : INFO : training on a 322650 raw words (318768 effective words) took 0.5s, 582511 effective words/s\n"
     ]
    }
   ],
   "source": [
    "model = gensim.models.Word2Vec(sentences, min_count=1, compute_loss=True, iter=5)"
   ]
  },
  {
   "cell_type": "code",
   "execution_count": 898,
   "metadata": {},
   "outputs": [],
   "source": [
    "magic_label = ['magic' if magic_sentences[idx] else 'not magic' for idx in range(len(magic_sentences))]"
   ]
  },
  {
   "cell_type": "code",
   "execution_count": 909,
   "metadata": {},
   "outputs": [
    {
     "name": "stderr",
     "output_type": "stream",
     "text": [
      "2018-04-23 10:56:43,940 : INFO : collecting all words and their counts\n",
      "2018-04-23 10:56:43,942 : INFO : PROGRESS: at example #0, processed 0 words (0/s), 0 word types, 0 tags\n",
      "2018-04-23 10:56:43,970 : INFO : collected 14928 word types and 5336 unique tags from a corpus of 5336 examples and 64530 words\n",
      "2018-04-23 10:56:43,971 : INFO : Loading a fresh vocabulary\n",
      "2018-04-23 10:56:44,007 : INFO : min_count=1 retains 14928 unique words (100% of original 14928, drops 0)\n",
      "2018-04-23 10:56:44,008 : INFO : min_count=1 leaves 64530 word corpus (100% of original 64530, drops 0)\n",
      "2018-04-23 10:56:44,053 : INFO : deleting the raw counts dictionary of 14928 items\n",
      "2018-04-23 10:56:44,054 : INFO : sample=0.001 downsamples 12 most-common words\n",
      "2018-04-23 10:56:44,055 : INFO : downsampling leaves estimated 63753 word corpus (98.8% of prior 64530)\n",
      "2018-04-23 10:56:44,108 : INFO : estimated required memory for 14928 words and 100 dimensions: 21540800 bytes\n",
      "2018-04-23 10:56:44,108 : INFO : resetting layer weights\n",
      "2018-04-23 10:56:44,329 : INFO : training model with 3 workers on 14928 vocabulary and 100 features, using sg=0 hs=0 sample=0.001 negative=5 window=8\n",
      "2018-04-23 10:56:44,639 : INFO : worker thread finished; awaiting finish of 2 more threads\n",
      "2018-04-23 10:56:44,659 : INFO : worker thread finished; awaiting finish of 1 more threads\n",
      "2018-04-23 10:56:44,677 : INFO : worker thread finished; awaiting finish of 0 more threads\n",
      "2018-04-23 10:56:44,678 : INFO : EPOCH - 1 : training on 64530 raw words (69086 effective words) took 0.3s, 202138 effective words/s\n",
      "2018-04-23 10:56:45,019 : INFO : worker thread finished; awaiting finish of 2 more threads\n",
      "2018-04-23 10:56:45,024 : INFO : worker thread finished; awaiting finish of 1 more threads\n",
      "2018-04-23 10:56:45,045 : INFO : worker thread finished; awaiting finish of 0 more threads\n",
      "2018-04-23 10:56:45,046 : INFO : EPOCH - 2 : training on 64530 raw words (69113 effective words) took 0.4s, 192222 effective words/s\n",
      "2018-04-23 10:56:45,384 : INFO : worker thread finished; awaiting finish of 2 more threads\n",
      "2018-04-23 10:56:45,396 : INFO : worker thread finished; awaiting finish of 1 more threads\n",
      "2018-04-23 10:56:45,428 : INFO : worker thread finished; awaiting finish of 0 more threads\n",
      "2018-04-23 10:56:45,429 : INFO : EPOCH - 3 : training on 64530 raw words (69107 effective words) took 0.4s, 183920 effective words/s\n",
      "2018-04-23 10:56:45,759 : INFO : worker thread finished; awaiting finish of 2 more threads\n",
      "2018-04-23 10:56:45,766 : INFO : worker thread finished; awaiting finish of 1 more threads\n",
      "2018-04-23 10:56:45,786 : INFO : worker thread finished; awaiting finish of 0 more threads\n",
      "2018-04-23 10:56:45,787 : INFO : EPOCH - 4 : training on 64530 raw words (69047 effective words) took 0.3s, 197303 effective words/s\n",
      "2018-04-23 10:56:46,051 : INFO : worker thread finished; awaiting finish of 2 more threads\n",
      "2018-04-23 10:56:46,069 : INFO : worker thread finished; awaiting finish of 1 more threads\n",
      "2018-04-23 10:56:46,088 : INFO : worker thread finished; awaiting finish of 0 more threads\n",
      "2018-04-23 10:56:46,088 : INFO : EPOCH - 5 : training on 64530 raw words (69068 effective words) took 0.3s, 235493 effective words/s\n",
      "2018-04-23 10:56:46,091 : INFO : training on a 322650 raw words (345421 effective words) took 1.8s, 196150 effective words/s\n"
     ]
    }
   ],
   "source": [
    "sentences_tagged = [gensim.models.doc2vec.TaggedDocument(words = words, tags=[idx]) for idx, words in enumerate(sentences)]\n",
    "model_sentences = gensim.models.Doc2Vec(sentences_tagged, size=100, window=8, min_count=1)"
   ]
  },
  {
   "cell_type": "code",
   "execution_count": 900,
   "metadata": {},
   "outputs": [
    {
     "data": {
      "text/plain": [
       "['años',\n",
       " 'frente',\n",
       " 'pelotón',\n",
       " 'fusilamiento',\n",
       " 'coronel',\n",
       " 'recordar',\n",
       " 'aquella',\n",
       " 'tarde',\n",
       " 'remota',\n",
       " 'padre',\n",
       " 'llevó',\n",
       " 'conocer',\n",
       " 'hielo']"
      ]
     },
     "execution_count": 900,
     "metadata": {},
     "output_type": "execute_result"
    }
   ],
   "source": [
    "sentences[0]"
   ]
  },
  {
   "cell_type": "code",
   "execution_count": 904,
   "metadata": {},
   "outputs": [
    {
     "data": {
      "text/plain": [
       "array([-0.01359027, -0.01448111, -0.02582754, -0.03976386, -0.03032332,\n",
       "        0.03093743, -0.05355566, -0.0096114 ,  0.03544744,  0.05679329,\n",
       "        0.02162731,  0.01495054, -0.06004931,  0.01388516,  0.01766847,\n",
       "       -0.04550124, -0.01274483,  0.01760248,  0.05369358,  0.02763892,\n",
       "        0.01939833,  0.02823965, -0.05587459, -0.02272618, -0.05870264,\n",
       "        0.0226475 , -0.05517389, -0.00669307, -0.00686005, -0.01320983,\n",
       "       -0.05516356, -0.03784245,  0.04505423,  0.0189449 , -0.02488027,\n",
       "        0.07088229,  0.00818528,  0.05472453, -0.02665695, -0.05861894,\n",
       "       -0.06210564, -0.05413478,  0.00545641,  0.02444724,  0.04763862,\n",
       "        0.02823905, -0.01578952, -0.02355443, -0.03063497,  0.02398456,\n",
       "       -0.06121549,  0.00840633, -0.04544747, -0.04946443, -0.00032698,\n",
       "        0.03915847, -0.00181356,  0.05494434,  0.06370249, -0.02446309,\n",
       "        0.01121087, -0.02649847, -0.01211878, -0.00423891, -0.05085151,\n",
       "       -0.02825752, -0.02377279,  0.02977594, -0.04349561,  0.03777167,\n",
       "       -0.06504899, -0.04400072,  0.03353213, -0.01111426,  0.01147769,\n",
       "        0.06071584, -0.02261158,  0.04096726,  0.02271273,  0.03121193,\n",
       "       -0.05732893, -0.04803476, -0.06131959, -0.06436485,  0.03434012,\n",
       "       -0.00306801,  0.02237799,  0.02990942,  0.00547076,  0.04942429,\n",
       "        0.05236576,  0.04993851, -0.0542517 , -0.00504915, -0.00532688,\n",
       "        0.02772452,  0.03998444, -0.03885468, -0.00027833,  0.03286449],\n",
       "      dtype=float32)"
      ]
     },
     "execution_count": 904,
     "metadata": {},
     "output_type": "execute_result"
    }
   ],
   "source": [
    "model_sentences.infer_vector(sentences[2])"
   ]
  },
  {
   "cell_type": "code",
   "execution_count": 927,
   "metadata": {},
   "outputs": [
    {
     "name": "stdout",
     "output_type": "stream",
     "text": [
      "[0.03002464 0.01195773 0.01187124 0.01173538 0.01152833 0.01147036\n",
      " 0.01123984 0.01118532 0.01109964 0.01090751]\n"
     ]
    },
    {
     "data": {
      "text/plain": [
       "<matplotlib.collections.PathCollection at 0x7eff6b065b00>"
      ]
     },
     "execution_count": 927,
     "metadata": {},
     "output_type": "execute_result"
    },
    {
     "data": {
      "image/png": "[encoded data removed]",
      "text/plain": [
       "<Figure size 432x288 with 1 Axes>"
      ]
     },
     "metadata": {},
     "output_type": "display_data"
    }
   ],
   "source": [
    "sentences_vec = np.array([model_sentences.docvecs[idx] for idx in range(len(sentences))])\n",
    "pca = sklearn.decomposition.PCA(n_components=10)\n",
    "pca.fit(sentences_vec)\n",
    "print(pca.explained_variance_ratio_)\n",
    "sentences_vec_proj = pca.transform(sentences_vec)\n",
    "plt.scatter(sentences_vec_proj[magic_sentences][:,0], sentences_vec_proj[magic_sentences][:,1], alpha=0.9)\n",
    "plt.scatter(sentences_vec_proj[~magic_sentences][:,0], sentences_vec_proj[~magic_sentences][:,1], alpha=0.5)"
   ]
  },
  {
   "cell_type": "code",
   "execution_count": 908,
   "metadata": {},
   "outputs": [
    {
     "data": {
      "text/plain": [
       "[('not magic', 1.0000001192092896), ('magic', 0.999998152256012)]"
      ]
     },
     "execution_count": 908,
     "metadata": {},
     "output_type": "execute_result"
    }
   ],
   "source": [
    "model_sentences.docvecs.most_similar([model_sentences.docvecs[0]])"
   ]
  },
  {
   "cell_type": "code",
   "execution_count": 805,
   "metadata": {},
   "outputs": [],
   "source": [
    "sentences_vec = [np.sum([model.wv[word.lower()] for word in sentence], axis=0) for sentence in sentences]\n",
    "sentences_vec = np.array([y if not isinstance(y, float) else np.zeros(100) for y in x])"
   ]
  },
  {
   "cell_type": "code",
   "execution_count": 806,
   "metadata": {},
   "outputs": [],
   "source": [
    "magic_sentences = np.array([magic[idx] for idx, paragraph in enumerate(paragraphs_tokenized) for sentence in paragraph])"
   ]
  },
  {
   "cell_type": "code",
   "execution_count": 807,
   "metadata": {},
   "outputs": [
    {
     "data": {
      "text/plain": [
       "0.9132308845577212"
      ]
     },
     "execution_count": 807,
     "metadata": {},
     "output_type": "execute_result"
    }
   ],
   "source": [
    "1 - magic_sentences.sum()/len(sentences)"
   ]
  },
  {
   "cell_type": "code",
   "execution_count": 808,
   "metadata": {},
   "outputs": [
    {
     "name": "stdout",
     "output_type": "stream",
     "text": [
      "[0.97124917 0.00116478]\n"
     ]
    }
   ],
   "source": [
    "pca = sklearn.decomposition.PCA(n_components=2)\n",
    "pca.fit(sentences_vec)\n",
    "print(pca.explained_variance_ratio_)\n",
    "sentences_vec_proj = pca.transform(sentences_vec)"
   ]
  },
  {
   "cell_type": "code",
   "execution_count": 809,
   "metadata": {
    "scrolled": true
   },
   "outputs": [
    {
     "data": {
      "text/plain": [
       "<matplotlib.axes._subplots.AxesSubplot at 0x7eff6d0b0860>"
      ]
     },
     "execution_count": 809,
     "metadata": {},
     "output_type": "execute_result"
    },
    {
     "data": {
      "image/png": "[encoded data removed]",
      "text/plain": [
       "<Figure size 432x288 with 1 Axes>"
      ]
     },
     "metadata": {},
     "output_type": "display_data"
    }
   ],
   "source": [
    "sns.stripplot(x=sentences_vec_proj[magic_sentences][:,0], jitter=True,color='orange',  alpha=0.7)\n",
    "sns.stripplot(x=sentences_vec_proj[~magic_sentences][:,0], jitter=True, color='blue', alpha=0.1)"
   ]
  },
  {
   "cell_type": "code",
   "execution_count": 792,
   "metadata": {},
   "outputs": [
    {
     "name": "stdout",
     "output_type": "stream",
     "text": [
      "[0.97124917 0.00116478]\n"
     ]
    },
    {
     "data": {
      "text/plain": [
       "<matplotlib.collections.PathCollection at 0x7eff6edecf28>"
      ]
     },
     "execution_count": 792,
     "metadata": {},
     "output_type": "execute_result"
    },
    {
     "data": {
      "image/png": "[encoded data removed]",
      "text/plain": [
       "<Figure size 432x288 with 1 Axes>"
      ]
     },
     "metadata": {},
     "output_type": "display_data"
    }
   ],
   "source": [
    "pca = sklearn.decomposition.PCA(n_components=2)\n",
    "pca.fit(sentences_vec)\n",
    "print(pca.explained_variance_ratio_)\n",
    "sentences_vec_proj = pca.transform(sentences_vec)\n",
    "plt.scatter(sentences_vec_proj[magic_sentences][:,0], sentences_vec_proj[magic_sentences][:,1])\n",
    "plt.scatter(sentences_vec_proj[~magic_sentences][:,0], sentences_vec_proj[~magic_sentences][:,1])"
   ]
  },
  {
   "cell_type": "code",
   "execution_count": 759,
   "metadata": {},
   "outputs": [],
   "source": [
    "random_sentences = np.zeros_like(sentences, dtype=bool)\n",
    "random_sentences[np.random.randint(0, len(sentences), size=magic_sentences.sum())] = True"
   ]
  },
  {
   "cell_type": "code",
   "execution_count": 760,
   "metadata": {},
   "outputs": [
    {
     "name": "stdout",
     "output_type": "stream",
     "text": [
      "0.6564842578710645\n",
      "0.6336206896551724\n"
     ]
    }
   ],
   "source": [
    "import sklearn\n",
    "\n",
    "lr = sklearn.linear_model.LogisticRegression(class_weight='balanced')\n",
    "lr.fit(x, magic_sentences)\n",
    "print(lr.score(x, magic_sentences))\n",
    "print(lr.score(x, random_sentences))"
   ]
  },
  {
   "cell_type": "code",
   "execution_count": 761,
   "metadata": {},
   "outputs": [
    {
     "name": "stdout",
     "output_type": "stream",
     "text": [
      "0.6467391304347826\n",
      "0.6212518740629686\n"
     ]
    }
   ],
   "source": [
    "lr = sklearn.linear_model.LogisticRegression(class_weight='balanced')\n",
    "lr.fit(x, random_sentences)\n",
    "print(lr.score(x, random_sentences))\n",
    "print(lr.score(x, magic_sentences))"
   ]
  },
  {
   "cell_type": "code",
   "execution_count": 592,
   "metadata": {},
   "outputs": [
    {
     "data": {
      "text/plain": [
       "[('guerra', 0.9996375441551208),\n",
       " ('armas', 0.9995791912078857),\n",
       " ('pidió', 0.9995691776275635),\n",
       " ('ver', 0.9995548129081726),\n",
       " ('sido', 0.9995187520980835),\n",
       " ('muerte', 0.9995184540748596),\n",
       " ('taller', 0.9995168447494507),\n",
       " ('dijo', 0.9995157122612),\n",
       " ('pudo', 0.9995152950286865),\n",
       " ('hijos', 0.9995118379592896)]"
      ]
     },
     "execution_count": 592,
     "metadata": {},
     "output_type": "execute_result"
    }
   ],
   "source": [
    "model.wv.most_similar(positive=['coronel'])"
   ]
  },
  {
   "cell_type": "code",
   "execution_count": null,
   "metadata": {},
   "outputs": [],
   "source": []
  },
  {
   "cell_type": "code",
   "execution_count": null,
   "metadata": {},
   "outputs": [],
   "source": []
  }
 ],
 "metadata": {
  "kernelspec": {
   "display_name": "Python 3",
   "language": "python",
   "name": "python3"
  },
  "language_info": {
   "codemirror_mode": {
    "name": "ipython",
    "version": 3
   },
   "file_extension": ".py",
   "mimetype": "text/x-python",
   "name": "python",
   "nbconvert_exporter": "python",
   "pygments_lexer": "ipython3",
   "version": "3.6.5"
  }
 },
 "nbformat": 4,
 "nbformat_minor": 2
}
